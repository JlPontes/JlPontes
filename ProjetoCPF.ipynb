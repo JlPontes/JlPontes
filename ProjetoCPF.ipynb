{
  "nbformat": 4,
  "nbformat_minor": 0,
  "metadata": {
    "colab": {
      "provenance": [],
      "authorship_tag": "ABX9TyMC9I2CnGGY8JlcGiXsYroK",
      "include_colab_link": true
    },
    "kernelspec": {
      "name": "python3",
      "display_name": "Python 3"
    },
    "language_info": {
      "name": "python"
    }
  },
  "cells": [
    {
      "cell_type": "markdown",
      "metadata": {
        "id": "view-in-github",
        "colab_type": "text"
      },
      "source": [
        "<a href=\"https://colab.research.google.com/github/JlPontes/JlPontes/blob/main/ProjetoCPF.ipynb\" target=\"_parent\"><img src=\"https://colab.research.google.com/assets/colab-badge.svg\" alt=\"Open In Colab\"/></a>"
      ]
    },
    {
      "cell_type": "code",
      "execution_count": 18,
      "metadata": {
        "colab": {
          "base_uri": "https://localhost:8080/"
        },
        "id": "bLM9ZdmuACZH",
        "outputId": "22ca653f-6402-4262-a208-b26d31ca9264"
      },
      "outputs": [
        {
          "output_type": "stream",
          "name": "stdout",
          "text": [
            "Digite a região para gerar o CPF (Sul, Sudeste, Centro-Oeste, Norte, Nordeste): Sudeste\n",
            "CPF gerado: 140.441.178-02\n"
          ]
        }
      ],
      "source": [
        "import random\n",
        "\n",
        "def gerarCPF(regiao):\n",
        "    # Gerando os 8 primeiros dígitos baseados na região\n",
        "    oitoprimeiros = [random.randint(0, 9) for _ in range(8)]\n",
        "\n",
        "    # Definindo o nono número baseado na região\n",
        "    if regiao == 'Sul':\n",
        "        nononumero = random.randint(0, 3)\n",
        "    elif regiao == 'Sudeste':\n",
        "        nononumero = random.choice([4, 5, 6, 8])\n",
        "    elif regiao == 'Centro-Oeste':\n",
        "        nononumero = 0\n",
        "    elif regiao == 'Norte':\n",
        "        nononumero = 1\n",
        "    elif regiao == 'Nordeste':\n",
        "        nononumero = random.randint(2, 9)\n",
        "    else:\n",
        "        raise ValueError(\"Região inválida. Escolha entre Sul, Sudeste, Centro-Oeste, Norte ou Nordeste.\")\n",
        "\n",
        "    # Junta os 9 primeiros dígitos do CPF\n",
        "    cpf = oitoprimeiros + [nononumero]\n",
        "\n",
        "    # Calcula o primeiro dígito verificador\n",
        "    cpf.append(calcula_primeiro_digito(cpf))\n",
        "\n",
        "    # Calcula o segundo dígito verificador\n",
        "    cpf.append(calcula_segundo_digito(cpf))\n",
        "\n",
        "    # Formata o CPF no padrão XXX.XXX.XXX-YY\n",
        "    cpf_formatado = '{}{}{}.{}{}{}.{}{}{}-{}{}'.format(*cpf)\n",
        "\n",
        "    return cpf_formatado\n",
        "\n",
        "def calcula_primeiro_digito(cpf):\n",
        "    soma = 0\n",
        "    peso = 10\n",
        "    for digit in cpf:\n",
        "        soma += digit * peso\n",
        "        peso -= 1\n",
        "    resto = soma % 11\n",
        "    if resto < 2:\n",
        "        return 0\n",
        "    else:\n",
        "        return 11 - resto\n",
        "\n",
        "def calcula_segundo_digito(cpf):\n",
        "    soma = 0\n",
        "    peso = 11\n",
        "    for digit in cpf:\n",
        "        soma += digit * peso\n",
        "        peso -= 1\n",
        "    resto = soma % 11\n",
        "    if resto < 2:\n",
        "        return 0\n",
        "    else:\n",
        "        return 11 - resto\n",
        "\n",
        "\n",
        "regiao = input(\"Digite a região para gerar o CPF (Sul, Sudeste, Centro-Oeste, Norte, Nordeste): \").strip().capitalize()\n",
        "\n",
        "# Gera o CPF para a região especificada\n",
        "try:\n",
        "    cpf_gerado = gerarCPF(regiao)\n",
        "    print(\"CPF gerado:\", cpf_gerado)\n",
        "except ValueError as e:\n",
        "    print(e)"
      ]
    },
    {
      "cell_type": "code",
      "source": [],
      "metadata": {
        "id": "Jz-S_flOAYN2"
      },
      "execution_count": null,
      "outputs": []
    }
  ]
}